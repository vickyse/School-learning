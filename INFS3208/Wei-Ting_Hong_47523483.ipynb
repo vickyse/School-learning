{
 "cells": [
  {
   "cell_type": "code",
   "execution_count": null,
   "metadata": {},
   "outputs": [],
   "source": [
    "from pyspark.sql import SparkSession"
   ]
  },
  {
   "cell_type": "code",
   "execution_count": null,
   "metadata": {},
   "outputs": [],
   "source": [
    "spark = SparkSession.builder.appName(\"cca3\").getOrCreate()"
   ]
  },
  {
   "cell_type": "code",
   "execution_count": null,
   "metadata": {},
   "outputs": [],
   "source": [
    "# Obj 1.1\n",
    "file_path = \"hdfs://namenode:9000/ungeneral-debates.csv\"\n",
    "\n",
    "df = spark.read.csv(file_path, header=True, multiLine=True)\n",
    "text_column = df.select(\n",
    "    \"text\"\n",
    ")  # extract every record of df with attribute \"text\", into \"row\" objects\n",
    "\n",
    "\n",
    "def extract_text(row):\n",
    "    return row[\n",
    "        \"text\"\n",
    "    ]  # Given an object \"row\", return the attribute value \"text\" of the row.\n",
    "\n",
    "\n",
    "text_rdd = text_column.rdd.map(\n",
    "    extract_text\n",
    ")  # text_column.rdd will iterate every row object in text_column, with the function\n",
    "# extract_text, it will extract \"text\" attribute value in every given object row,\n",
    "# and map it to rdd\n",
    "# 擷取出ungeneral-debates中的每一行records的text(text_rdd)"
   ]
  },
  {
   "cell_type": "code",
   "execution_count": null,
   "metadata": {},
   "outputs": [],
   "source": [
    "# Obj 1.2\n",
    "all_verbs_rdd = spark.sparkContext.textFile(\"hdfs://namenode:9000/all_verbs.txt\")\n",
    "\n",
    "\n",
    "def is_not_empty(line):\n",
    "    return line.strip() != \"\"\n",
    "\n",
    "\n",
    "all_verbs_without_space_rdd = all_verbs_rdd.filter(\n",
    "    is_not_empty\n",
    ")  # deal space if all_verbs.txt has space elements\n",
    "\n",
    "verb_dict_rdd = spark.sparkContext.textFile(\"hdfs://namenode:9000/verb_dict.txt\")"
   ]
  },
  {
   "cell_type": "code",
   "execution_count": null,
   "metadata": {},
   "outputs": [],
   "source": [
    "# Obj 2.1\n",
    "def is_not_empty(line):\n",
    "    return line and line.strip() != \"\"\n",
    "\n",
    "\n",
    "text_rdd_without_empty_lines = text_rdd.filter(is_not_empty)\n",
    "# 為刪除ungeneral-debates rdd中的空行(text_rdd_without_empty_lines)"
   ]
  },
  {
   "cell_type": "code",
   "execution_count": null,
   "metadata": {},
   "outputs": [],
   "source": [
    "# Obj 2.2\n",
    "import re\n",
    "\n",
    "\n",
    "def remove_punctuation(line):\n",
    "    return re.sub(r\"[^\\w\\s]\", \"\", line)\n",
    "\n",
    "\n",
    "text_after_clean = text_rdd_without_empty_lines.map(remove_punctuation)\n",
    "# 刪除text_rdd_without_empty_lines中的標點符號(text_after_clean)"
   ]
  },
  {
   "cell_type": "code",
   "execution_count": null,
   "metadata": {},
   "outputs": [],
   "source": [
    "# Obj 2.3\n",
    "def to_lowercase(line):\n",
    "    return line.lower()\n",
    "\n",
    "\n",
    "lowercase_text_rdd = text_after_clean.map(to_lowercase)\n",
    "# 將text_after_clean轉成小寫(lowercase_text_rdd)"
   ]
  },
  {
   "cell_type": "code",
   "execution_count": null,
   "metadata": {},
   "outputs": [],
   "source": [
    "# Obj 2.4\n",
    "verb_list = set(all_verbs_without_space_rdd.collect())\n",
    "sorted_verb_list = sorted(verb_list)\n",
    "# 擷取all_verbs內的所有動詞並字母排序(sorted_verb_list)\n",
    "\n",
    "\n",
    "def extract_verbs(line):\n",
    "    every_setence = line.split()\n",
    "    verbs_in_every_sentence = [\n",
    "        every_word for every_word in every_setence if every_word in sorted_verb_list\n",
    "    ]\n",
    "    return verbs_in_every_sentence\n",
    "\n",
    "\n",
    "existing_verbs_rdd = lowercase_text_rdd.map(extract_verbs)\n",
    "# 擷取text中所有存在於all_verbs的動詞(existing_verbs_rdd)"
   ]
  },
  {
   "cell_type": "code",
   "execution_count": null,
   "metadata": {},
   "outputs": [],
   "source": [
    "# Obj 2.5\n",
    "simple_present_tense_verbs_mapping = {}  # dictionary to store verbs mappings\n",
    "\n",
    "\n",
    "def create_verb_mapping(line):\n",
    "    every_verbs = line.split(\",\")\n",
    "    base_verb = every_verbs[0]\n",
    "    variations = every_verbs[1:]\n",
    "    local_mapping = {}\n",
    "    for v in variations:\n",
    "        local_mapping[v] = base_verb\n",
    "    return local_mapping\n",
    "\n",
    "\n",
    "mappings_list = verb_dict_rdd.map(create_verb_mapping).collect()\n",
    "\n",
    "# put every local mapping into a big global mapping dictionary\n",
    "for mapping in mappings_list:\n",
    "    simple_present_tense_verbs_mapping.update(mapping)"
   ]
  },
  {
   "cell_type": "code",
   "execution_count": null,
   "metadata": {},
   "outputs": [],
   "source": [
    "# Obj 3.1\n",
    "def map_to_base_form(verb):\n",
    "    return simple_present_tense_verbs_mapping.get(\n",
    "        verb, verb\n",
    "    )  # Function to map every verb to their simple present tense\n",
    "\n",
    "\n",
    "base_form_verbs_rdd = existing_verbs_rdd.flatMap(\n",
    "    lambda verbs: [map_to_base_form(verb) for verb in verbs]\n",
    ")\n",
    "# deploy function on every verb that used in text\n",
    "\n",
    "verb_count_rdd = base_form_verbs_rdd.map(lambda verb: (verb, 1)).reduceByKey(\n",
    "    lambda a, b: a + b\n",
    ")\n",
    "# Count frequency\n",
    "\n",
    "top_10_verbs = verb_count_rdd.takeOrdered(10, key=lambda x: -x[1])\n",
    "# Get 10 most frequent verbs"
   ]
  },
  {
   "cell_type": "code",
   "execution_count": null,
   "metadata": {},
   "outputs": [],
   "source": [
    "# Obj 3.2\n",
    "for verb, count in top_10_verbs:\n",
    "    print(f\"{verb}, {count}\")"
   ]
  }
 ],
 "metadata": {
  "language_info": {
   "name": "python"
  },
  "orig_nbformat": 4
 },
 "nbformat": 4,
 "nbformat_minor": 2
}
